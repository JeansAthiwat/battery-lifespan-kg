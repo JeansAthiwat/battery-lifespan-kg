{
 "cells": [
  {
   "cell_type": "markdown",
   "metadata": {},
   "source": [
    "# Extract Features from Test Set\n",
    "\n",
    "This notebook loads the test set data, performs feature engineering (e.g., trimming, slope calculations, and mean gradients), and exports the processed test set as a pickle file."
   ]
  },
  {
   "cell_type": "code",
   "execution_count": 2,
   "metadata": {},
   "outputs": [
    {
     "name": "stdout",
     "output_type": "stream",
     "text": [
      "Loaded 40 batteries from the test set\n"
     ]
    }
   ],
   "source": [
    "import pickle\n",
    "import matplotlib.pyplot as plt\n",
    "import numpy as np\n",
    "import os\n",
    "\n",
    "# set visualization flag\n",
    "VISUALIZE = True\n",
    "\n",
    "# Path to the test set pickle file\n",
    "input_test_file = \"../resources/raw/test_bat_data.pkl\"\n",
    "\n",
    "# Load the test set\n",
    "with open(input_test_file, \"rb\") as file:\n",
    "    test_dict = pickle.load(file)\n",
    "\n",
    "print(f\"Loaded {len(test_dict)} batteries from the test set\")"
   ]
  },
  {
   "cell_type": "markdown",
   "metadata": {},
   "source": [
    "# Visualize a Sample Battery"
   ]
  },
  {
   "cell_type": "code",
   "execution_count": 3,
   "metadata": {},
   "outputs": [
    {
     "name": "stdout",
     "output_type": "stream",
     "text": [
      "Sample Battery ID: b3c0\n",
      "First 10 q_d_n values: [1.0665727853775024, 1.0674550533294678, 1.0682848691940308, 1.0687084197998047, 1.0690935850143433, 1.0694149732589722, 1.069730520248413, 1.0699872970581055, 1.0702369213104248, 1.0704190731048584]\n"
     ]
    },
    {
     "data": {
      "image/png": "[encoded data removed]",
      "text/plain": [
       "<Figure size 1000x600 with 1 Axes>"
      ]
     },
     "metadata": {},
     "output_type": "display_data"
    }
   ],
   "source": [
    "sample_battery_id = list(test_dict.keys())[0]\n",
    "print(f\"Sample Battery ID: {sample_battery_id}\")\n",
    "print(f\"First 10 q_d_n values: {test_dict[sample_battery_id]['q_d_n'][:10]}\")\n",
    "\n",
    "if VISUALIZE:\n",
    "    plt.figure(figsize=(10, 6))\n",
    "    x_values = list(range(len(test_dict[sample_battery_id]['q_d_n'])))\n",
    "    plt.plot(x_values, test_dict[sample_battery_id]['q_d_n'], label=sample_battery_id)\n",
    "    plt.xlabel('Cycle')\n",
    "    plt.ylabel('q_d_n')\n",
    "    plt.title('q_d_n for a Sample Test Battery')\n",
    "    plt.legend()\n",
    "    plt.grid(True)\n",
    "    plt.show()"
   ]
  },
  {
   "cell_type": "markdown",
   "metadata": {},
   "source": [
    "# Save to resource"
   ]
  },
  {
   "cell_type": "code",
   "execution_count": 5,
   "metadata": {},
   "outputs": [],
   "source": [
    "for battery_id, data in test_dict.items():\n",
    "    q_d_n = data.get('q_d_n')\n",
    "    if q_d_n is not None:\n",
    "        try:\n",
    "            with open(f\"../resources/raw/{battery_id}.txt\", \"w\") as f:\n",
    "                for val in q_d_n:\n",
    "                    f.write(f\"{val},\\n\")\n",
    "        except Exception as e:\n",
    "            print(f\"Error saving {battery_id}: {e}\")\n",
    "    else:\n",
    "        print(f\"Missing 'q_d_n' for {battery_id}\")\n"
   ]
  },
  {
   "cell_type": "markdown",
   "metadata": {},
   "source": [
    "# Feature Engineering for Test Set\n",
    "\n",
    "The following cells perform feature extraction on each battery in the test set. The steps include:\n",
    "\n",
    "- Trimming the trailing zeros from the `q_d_n` array.\n",
    "- Calculating the overall slope from the first to the last cycle.\n",
    "- Calculating the slope over the last *k* cycles (if there are enough cycles).\n",
    "- Calculating the mean gradient of the last *k* cycles.\n",
    "\n",
    "Adjust the list of `k` values as needed."
   ]
  },
  {
   "cell_type": "code",
   "execution_count": null,
   "metadata": {},
   "outputs": [
    {
     "name": "stdout",
     "output_type": "stream",
     "text": [
      "Trimming complete and cycle counts verified.\n"
     ]
    }
   ],
   "source": [
    "# Ensure each battery has a 'cycle' field. If not, assume cycle count equals length of q_d_n\n",
    "for battery_id in test_dict:\n",
    "    if 'cycle' not in test_dict[battery_id]:\n",
    "        test_dict[battery_id]['cycle'] = len(test_dict[battery_id]['q_d_n'])\n",
    "\n",
    "# Trim trailing zeros from q_d_n and store as 'trimmed_q_d_n'\n",
    "for battery_id in test_dict:\n",
    "    trimmed_arr = np.trim_zeros(test_dict[battery_id]['q_d_n'], 'b')\n",
    "    test_dict[battery_id]['trimmed_q_d_n'] = list(trimmed_arr)\n",
    "    \n",
    "    # Check consistency: trimmed length should match the cycle count\n",
    "    cycle = test_dict[battery_id]['cycle']\n",
    "    if len(test_dict[battery_id]['trimmed_q_d_n']) != cycle:\n",
    "        raise ValueError(f\"Battery {battery_id} has inconsistent cycle count and trimmed_q_d_n length\")\n",
    "\n",
    "print(\"Trimming complete and cycle counts verified.\")"
   ]
  },
  {
   "cell_type": "code",
   "execution_count": null,
   "metadata": {},
   "outputs": [
    {
     "name": "stdout",
     "output_type": "stream",
     "text": [
      "Overall slopes calculated for each battery.\n"
     ]
    }
   ],
   "source": [
    "# Calculate overall slope from the first to the last cycle\n",
    "for battery_id in test_dict:\n",
    "    q_d_n_values = test_dict[battery_id]['trimmed_q_d_n']\n",
    "    cycle = test_dict[battery_id]['cycle']\n",
    "    slope_all = (q_d_n_values[-1] - q_d_n_values[0]) / cycle\n",
    "    test_dict[battery_id]['slope_all_cycles'] = slope_all\n",
    "\n",
    "print(\"Overall slopes calculated for each battery.\")"
   ]
  },
  {
   "cell_type": "code",
   "execution_count": null,
   "metadata": {},
   "outputs": [
    {
     "name": "stdout",
     "output_type": "stream",
     "text": [
      "Last k cycles slopes calculated.\n"
     ]
    }
   ],
   "source": [
    "# Define list of k values for last k cycle calculations\n",
    "last_k_th_cycles_list = [10, 50, 100, 200, 300, 400, 500, 600, 700, 800, 900, 1000]\n",
    "\n",
    "# Calculate slope for the last k cycles\n",
    "for k in last_k_th_cycles_list:\n",
    "    for battery_id in test_dict:\n",
    "        q_d_n_values = test_dict[battery_id]['trimmed_q_d_n']\n",
    "        cycle = test_dict[battery_id]['cycle']\n",
    "        if cycle > k:\n",
    "            slope = (q_d_n_values[-1] - q_d_n_values[-k]) / k\n",
    "        else:\n",
    "            slope = np.nan\n",
    "        test_dict[battery_id][f'slope_last_{k}_cycles'] = slope\n",
    "\n",
    "print(\"Last k cycles slopes calculated.\")"
   ]
  },
  {
   "cell_type": "code",
   "execution_count": null,
   "metadata": {},
   "outputs": [
    {
     "name": "stdout",
     "output_type": "stream",
     "text": [
      "First k cycles slopes calculated.\n"
     ]
    }
   ],
   "source": [
    "first_k_th_cycles_list = [10, 50, 100, 200, 300, 400, 500, 600, 700, 800, 900, 1000]\n",
    "\n",
    "# Calculate slope for the first k cycles\n",
    "for k in first_k_th_cycles_list:\n",
    "    for battery_id in test_dict:\n",
    "        q_d_n_values = test_dict[battery_id]['trimmed_q_d_n']\n",
    "        cycle = test_dict[battery_id]['cycle']\n",
    "        if cycle > k:\n",
    "            slope = (q_d_n_values[k - 1] - q_d_n_values[0]) / k\n",
    "        else:\n",
    "            slope = np.nan\n",
    "        test_dict[battery_id][f'slope_first_{k}_cycles'] = slope\n",
    "\n",
    "print(\"First k cycles slopes calculated.\")"
   ]
  },
  {
   "cell_type": "code",
   "execution_count": null,
   "metadata": {},
   "outputs": [
    {
     "name": "stdout",
     "output_type": "stream",
     "text": [
      "Mean gradients calculated for the last k cycles.\n"
     ]
    }
   ],
   "source": [
    "# Calculate mean gradient of the last k cycles using numpy.gradient\n",
    "for k in last_k_th_cycles_list:\n",
    "    for battery_id in test_dict:\n",
    "        q_d_n_values = test_dict[battery_id]['trimmed_q_d_n']\n",
    "        cycle = test_dict[battery_id]['cycle']\n",
    "        if cycle > k:\n",
    "            grad = np.gradient(q_d_n_values[-k:], 1)\n",
    "            mean_grad = np.mean(grad)\n",
    "        else:\n",
    "            mean_grad = np.nan\n",
    "        test_dict[battery_id][f'mean_grad_last_{k}_cycles'] = mean_grad\n",
    "\n",
    "print(\"Mean gradients calculated for the last k cycles.\")"
   ]
  },
  {
   "cell_type": "code",
   "execution_count": null,
   "metadata": {},
   "outputs": [
    {
     "name": "stdout",
     "output_type": "stream",
     "text": [
      "Mean gradients calculated for the first k cycles.\n"
     ]
    }
   ],
   "source": [
    "# Calculate mean gradient of the first k cycles using numpy.gradient\n",
    "for k in first_k_th_cycles_list:\n",
    "    for battery_id in test_dict:\n",
    "        q_d_n_values = test_dict[battery_id]['trimmed_q_d_n']\n",
    "        cycle = test_dict[battery_id]['cycle']\n",
    "        if cycle > k:\n",
    "            grad = np.gradient(q_d_n_values[:k], 1)\n",
    "            mean_grad = np.mean(grad)\n",
    "        else:\n",
    "            mean_grad = np.nan\n",
    "        test_dict[battery_id][f'mean_grad_first_{k}_cycles'] = mean_grad\n",
    "\n",
    "print(\"Mean gradients calculated for the first k cycles.\")"
   ]
  },
  {
   "cell_type": "markdown",
   "metadata": {},
   "source": [
    "# Export Processed Test Set\n",
    "\n",
    "The processed test set (with the new features) is now saved as a pickle file."
   ]
  },
  {
   "cell_type": "code",
   "execution_count": null,
   "metadata": {},
   "outputs": [
    {
     "name": "stdout",
     "output_type": "stream",
     "text": [
      "Processed test set saved at ../resources/processed/processed_test.pkl\n"
     ]
    }
   ],
   "source": [
    "output_file = \"../resources/processed/processed_test.pkl\"\n",
    "with open(output_file, \"wb\") as file:\n",
    "    pickle.dump(test_dict, file)\n",
    "\n",
    "print(f\"Processed test set saved at {output_file}\")"
   ]
  },
  {
   "cell_type": "code",
   "execution_count": null,
   "metadata": {},
   "outputs": [
    {
     "data": {
      "text/plain": [
       "dict_keys(['q_d_n', 'cycle', 'trimmed_q_d_n', 'slope_all_cycles', 'slope_last_10_cycles', 'slope_last_50_cycles', 'slope_last_100_cycles', 'slope_last_200_cycles', 'slope_last_300_cycles', 'slope_last_400_cycles', 'slope_last_500_cycles', 'slope_last_600_cycles', 'slope_last_700_cycles', 'slope_last_800_cycles', 'slope_last_900_cycles', 'slope_last_1000_cycles', 'slope_first_10_cycles', 'slope_first_50_cycles', 'slope_first_100_cycles', 'slope_first_200_cycles', 'slope_first_300_cycles', 'slope_first_400_cycles', 'slope_first_500_cycles', 'slope_first_600_cycles', 'slope_first_700_cycles', 'slope_first_800_cycles', 'slope_first_900_cycles', 'slope_first_1000_cycles', 'mean_grad_last_10_cycles', 'mean_grad_last_50_cycles', 'mean_grad_last_100_cycles', 'mean_grad_last_200_cycles', 'mean_grad_last_300_cycles', 'mean_grad_last_400_cycles', 'mean_grad_last_500_cycles', 'mean_grad_last_600_cycles', 'mean_grad_last_700_cycles', 'mean_grad_last_800_cycles', 'mean_grad_last_900_cycles', 'mean_grad_last_1000_cycles', 'mean_grad_first_10_cycles', 'mean_grad_first_50_cycles', 'mean_grad_first_100_cycles', 'mean_grad_first_200_cycles', 'mean_grad_first_300_cycles', 'mean_grad_first_400_cycles', 'mean_grad_first_500_cycles', 'mean_grad_first_600_cycles', 'mean_grad_first_700_cycles', 'mean_grad_first_800_cycles', 'mean_grad_first_900_cycles', 'mean_grad_first_1000_cycles'])"
      ]
     },
     "execution_count": 21,
     "metadata": {},
     "output_type": "execute_result"
    }
   ],
   "source": [
    "test_dict[sample_battery_id].keys()"
   ]
  }
 ],
 "metadata": {
  "kernelspec": {
   "display_name": "Python 3",
   "language": "python",
   "name": "python3"
  },
  "language_info": {
   "codemirror_mode": {
    "name": "ipython",
    "version": 3
   },
   "file_extension": ".py",
   "mimetype": "text/x-python",
   "name": "python",
   "nbconvert_exporter": "python",
   "pygments_lexer": "ipython3",
   "version": "3.10.12"
  }
 },
 "nbformat": 4,
 "nbformat_minor": 2
}
