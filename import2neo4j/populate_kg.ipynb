{
 "cells": [
  {
   "cell_type": "markdown",
   "metadata": {},
   "source": [
    "## Pulls feature from the Mark's featureful (aka setupdataset_mod.ipynb) data\n",
    "\"./resources/processed/processed_for_kg_v2.pkl\"\n",
    "<br>\n",
    "<br>\n",
    "and try to populate the kg with those feature"
   ]
  },
  {
   "cell_type": "code",
   "execution_count": 1,
   "metadata": {},
   "outputs": [],
   "source": [
    "import getpass\n",
    "import os\n",
    "import pickle"
   ]
  },
  {
   "cell_type": "markdown",
   "metadata": {},
   "source": [
    "## Battery Dataset Features\n",
    "\n",
    "This dataset contains time-series data related to battery degradation. Each battery is identified by a unique `battery_id`.\n",
    "The dataset is divided into:\n",
    "- `b1` (train set)\n",
    "- `b2` (validation set)\n",
    "- `b3` (test set, not included)\n",
    "\n",
    "Each battery ID (e.g., `b1c1`) contains the following features:\n",
    "\n",
    "Attributes:\n",
    "    \n",
    "    - cycle (int): \n",
    "        The total number of charge-discharge cycles completed by the battery.\n",
    "        Example: 2161\n",
    "\n",
    "    - charging_policy (str): \n",
    "        The charging protocol applied to the battery.\n",
    "        Example: \"3.6C(80%)-3.6C\"\n",
    "\n",
    "    - q_d_n (list[float]): \n",
    "        List of normalized discharge capacity values over cycles.\n",
    "        Example: [1.0499999523162842, ..., 1.075301170349121,0.0, 0.0]\n",
    "\n",
    "    - trimmed_q_d_n (list[float]): \n",
    "        A trimmed version of `q_d_n`, typically containing the relevant capacity data after preprocessing.\n",
    "        Example: [1.0499999523162842, ..., 0.8800023198127747]\n",
    "\n",
    "    - slope_all_cycles (float): \n",
    "        Slope of discharge capacity over all cycles.\n",
    "        Example: -7.866618810898173e-05\n",
    "\n",
    "    - slope_last_{N}_cycles (float): \n",
    "        Slope of discharge capacity over the last N cycles, where N can be \n",
    "        10, 50, 100, 200, 300, 400, 500, 600, 700, 800, 900, or 1000.\n",
    "        Example: slope_last_100_cycles = -0.0003626042604446411\n",
    "\n",
    "    - mean_grad_last_{N}_cycles (numpy.float64): \n",
    "        Mean gradient of discharge capacity over the last N cycles, where N can be \n",
    "        10, 50, 100, 200, 300, 400, 500, 600, 700, 800, 900, or 1000.\n",
    "        Example: mean_grad_last_100_cycles = -0.00036493629217147826\n",
    "\n",
    "---"
   ]
  },
  {
   "cell_type": "markdown",
   "metadata": {},
   "source": [
    "## NODE & RELATION IDEA\n",
    "\n",
    "### **Nodes**\n",
    "1. **Battery**\n",
    "   - `battery_id` (string, e.g., `\"b1c1\"`) → Unique identifier for each battery.\n",
    "   - `total_cycles` (int) → Total charge-discharge cycles completed. **(Renamed for clarity)**\n",
    "   - `slope_all_cycles` (float) → Degradation trend over all cycles.\n",
    "   - `slope_last_{k}_cycles` (float) → Degradation trend over the last `k` cycles, where `k` ∈ {10, 50, …, 1000}.\n",
    "   - `mean_grad_last_{k}_cycles` (float) → Mean degradation rate over the last `k` cycles.\n",
    "   - `trimmed_q_d_n` (list[float]) → Normalized discharge capacity values (⚠️ **Consider storing summary stats instead of full lists in Neo4j for efficiency.??**)\n",
    "\n",
    "2. **ChargingPolicy**\n",
    "   - `policy_id` (auto-generated, optional) → Unique identifier for each policy (useful for indexing). **(Can be omitted if Neo4j auto-generates it)**\n",
    "   - `charging_policy` (string, e.g., `\"3.6C(80%)-3.6C\"`) → The applied charging protocol.\n",
    "\n",
    "\n",
    "\n",
    "### **Relationships**\n",
    "1. **`USED_BY`** (`(:Battery) -[:USED_BY]-> (:ChargingPolicy)`)  \n",
    "   - **Links each battery to the charging protocol it follows.**  \n"
   ]
  },
  {
   "cell_type": "markdown",
   "metadata": {},
   "source": [
    "## Load feature engineered dataset to dict"
   ]
  },
  {
   "cell_type": "code",
   "execution_count": 2,
   "metadata": {},
   "outputs": [
    {
     "name": "stdout",
     "output_type": "stream",
     "text": [
      "Battery data loaded successfully.\n",
      "dict_keys(['b1c1', 'b1c3', 'b1c5', 'b1c7', 'b1c11', 'b1c15', 'b1c17', 'b1c19', 'b1c21', 'b1c24', 'b1c26', 'b1c28', 'b1c30', 'b1c32', 'b1c34', 'b1c36', 'b1c38', 'b1c40', 'b1c42', 'b1c44', 'b2c0', 'b2c2', 'b2c4', 'b2c6', 'b2c11', 'b2c13', 'b2c17', 'b2c19', 'b2c21', 'b2c23', 'b2c25', 'b2c27', 'b2c29', 'b2c31', 'b2c33', 'b2c35', 'b2c37', 'b2c39', 'b2c41', 'b2c43', 'b2c45', 'b1c0', 'b1c2', 'b1c4', 'b1c6', 'b1c9', 'b1c14', 'b1c16', 'b1c18', 'b1c20', 'b1c23', 'b1c25', 'b1c27', 'b1c29', 'b1c31', 'b1c33', 'b1c35', 'b1c37', 'b1c39', 'b1c41', 'b1c43', 'b1c45', 'b2c1', 'b2c3', 'b2c5', 'b2c10', 'b2c12', 'b2c14', 'b2c18', 'b2c20', 'b2c22', 'b2c24', 'b2c26', 'b2c28', 'b2c30', 'b2c32', 'b2c34', 'b2c36', 'b2c38', 'b2c40', 'b2c42', 'b2c44', 'b2c46'])\n",
      "dict_keys(['q_d_n', 'cycle', 'charging_policy', 'trimmed_q_d_n', 'slope_all_cycles', 'slope_last_10_cycles', 'slope_last_50_cycles', 'slope_last_100_cycles', 'slope_last_200_cycles', 'slope_last_300_cycles', 'slope_last_400_cycles', 'slope_last_500_cycles', 'slope_last_600_cycles', 'slope_last_700_cycles', 'slope_last_800_cycles', 'slope_last_900_cycles', 'slope_last_1000_cycles', 'slope_first_10_cycles', 'slope_first_50_cycles', 'slope_first_100_cycles', 'slope_first_200_cycles', 'slope_first_300_cycles', 'slope_first_400_cycles', 'slope_first_500_cycles', 'slope_first_600_cycles', 'slope_first_700_cycles', 'slope_first_800_cycles', 'slope_first_900_cycles', 'slope_first_1000_cycles', 'mean_grad_last_10_cycles', 'mean_grad_last_50_cycles', 'mean_grad_last_100_cycles', 'mean_grad_last_200_cycles', 'mean_grad_last_300_cycles', 'mean_grad_last_400_cycles', 'mean_grad_last_500_cycles', 'mean_grad_last_600_cycles', 'mean_grad_last_700_cycles', 'mean_grad_last_800_cycles', 'mean_grad_last_900_cycles', 'mean_grad_last_1000_cycles', 'mean_grad_first_10_cycles', 'mean_grad_first_50_cycles', 'mean_grad_first_100_cycles', 'mean_grad_first_200_cycles', 'mean_grad_first_300_cycles', 'mean_grad_first_400_cycles', 'mean_grad_first_500_cycles', 'mean_grad_first_600_cycles', 'mean_grad_first_700_cycles', 'mean_grad_first_800_cycles', 'mean_grad_first_900_cycles', 'mean_grad_first_1000_cycles'])\n"
     ]
    }
   ],
   "source": [
    "\n",
    "# Load battery dataset\n",
    "DATASET_PATH = \"../resources/processed/processed_for_kg_v2.pkl\"\n",
    "\n",
    "with open(DATASET_PATH, \"rb\") as f:\n",
    "    battery_data = pickle.load(f)\n",
    "print(\"Battery data loaded successfully.\")\n",
    "print(battery_data.keys())\n",
    "print(battery_data[\"b1c1\"].keys())"
   ]
  },
  {
   "cell_type": "markdown",
   "metadata": {},
   "source": [
    "## NEO4J"
   ]
  },
  {
   "cell_type": "code",
   "execution_count": 3,
   "metadata": {},
   "outputs": [],
   "source": [
    "# %pip install --upgrade --quiet  langchain langchain-community langchain-openai langchain-experimental neo4j"
   ]
  },
  {
   "cell_type": "code",
   "execution_count": 4,
   "metadata": {},
   "outputs": [],
   "source": [
    "from neo4j import GraphDatabase\n",
    "\n",
    "class BatteryGraph:\n",
    "    def __init__(self, uri, user, password):\n",
    "        self.driver = GraphDatabase.driver(uri, auth=(user, password))\n",
    "\n",
    "    def close(self):\n",
    "        self.driver.close()\n",
    "\n",
    "    def insert_battery_data(self, battery_id, battery_data):\n",
    "        with self.driver.session() as session:\n",
    "            # Insert ChargingPolicy Node (if not exists)\n",
    "            policy = battery_data[\"charging_policy\"]\n",
    "            session.run(\n",
    "                \"\"\"\n",
    "                MERGE (cp:ChargingPolicy {charging_policy: $policy})\n",
    "                \"\"\",\n",
    "                policy=policy\n",
    "            )\n",
    "\n",
    "            # Insert Battery Node\n",
    "            session.run(\n",
    "                \"\"\"\n",
    "                MERGE (b:Battery {battery_id: $battery_id})\n",
    "                SET b.total_cycles = $total_cycles,\n",
    "                    b.slope_all_cycles = $slope_all_cycles,\n",
    "                    b.trimmed_q_d_n_avg = $trimmed_q_d_n_avg,\n",
    "                    b.name = $battery_id  // Ensures battery_id is displayed as the node name in Neo4j\n",
    "                \"\"\",\n",
    "                battery_id=battery_id,\n",
    "                total_cycles=battery_data[\"cycle\"],\n",
    "                slope_all_cycles=battery_data[\"slope_all_cycles\"],\n",
    "                trimmed_q_d_n_avg=sum(battery_data[\"trimmed_q_d_n\"]) / len(battery_data[\"trimmed_q_d_n\"])\n",
    "            )\n",
    "\n",
    "            # Insert slope_last_{N}_cycles and mean_grad_last_{N}_cycles attributes\n",
    "            for key, value in battery_data.items():\n",
    "                if key.startswith(\"slope_last_\") or key.startswith(\"mean_grad_last_\") or key.startswith(\"slope_first_\") or key.startswith(\"mean_grad_first_\"):\n",
    "                    session.run(\n",
    "                        f\"\"\"\n",
    "                        MATCH (b:Battery {{battery_id: $battery_id}})\n",
    "                        SET b.{key} = $value\n",
    "                        \"\"\",\n",
    "                        battery_id=battery_id,\n",
    "                        value=value\n",
    "                    )\n",
    "                \n",
    "\n",
    "            # Create USED_BY relationship in the new direction: (cp)-[:USED_BY]->(b)\n",
    "            session.run(\n",
    "                \"\"\"\n",
    "                MATCH (b:Battery {battery_id: $battery_id})\n",
    "                MATCH (cp:ChargingPolicy {charging_policy: $policy})\n",
    "                MERGE (cp)-[:USED_BY]->(b)\n",
    "                \"\"\",\n",
    "                battery_id=battery_id,\n",
    "                policy=policy\n",
    "            )\n",
    "\n"
   ]
  },
  {
   "cell_type": "markdown",
   "metadata": {},
   "source": [
    "## Set up Neo4J\n",
    "\n",
    "populate the kg with battery dataset"
   ]
  },
  {
   "cell_type": "code",
   "execution_count": 5,
   "metadata": {},
   "outputs": [
    {
     "name": "stdout",
     "output_type": "stream",
     "text": [
      "Battery data successfully inserted into Neo4j.\n"
     ]
    }
   ],
   "source": [
    "# Neo4j connection settings\n",
    "# !!should be set as environment variables when running in production\n",
    "URI = \"neo4j+s://3b31837b.databases.neo4j.io\"  # Change this if your Neo4j instance runs elsewhere\n",
    "USERNAME = \"neo4j\" # Replace with your actual username\n",
    "PASSWORD = \"D4W3Zfi44nAJfStBuxSE2DpKhlk_nMP6ybEjvOX5qxw\"  # Replace with your actual password\n",
    "\n",
    "# Initialize Neo4j connection\n",
    "graph = BatteryGraph(URI, USERNAME, PASSWORD)\n",
    "\n",
    "# Insert each battery's data into Neo4j\n",
    "for battery_id, battery_info in battery_data.items():\n",
    "    graph.insert_battery_data(battery_id, battery_info)\n",
    "\n",
    "# Close connection\n",
    "graph.close()\n",
    "\n",
    "print(\"Battery data successfully inserted into Neo4j.\")"
   ]
  },
  {
   "cell_type": "code",
   "execution_count": 6,
   "metadata": {},
   "outputs": [
    {
     "ename": "KeyboardInterrupt",
     "evalue": "Interrupted by user",
     "output_type": "error",
     "traceback": [
      "\u001b[0;31m---------------------------------------------------------------------------\u001b[0m",
      "\u001b[0;31mKeyboardInterrupt\u001b[0m                         Traceback (most recent call last)",
      "Cell \u001b[0;32mIn[6], line 2\u001b[0m\n\u001b[1;32m      1\u001b[0m \u001b[38;5;28;01mif\u001b[39;00m \u001b[38;5;124m\"\u001b[39m\u001b[38;5;124mNVIDIA_API_KEY\u001b[39m\u001b[38;5;124m\"\u001b[39m \u001b[38;5;129;01mnot\u001b[39;00m \u001b[38;5;129;01min\u001b[39;00m os\u001b[38;5;241m.\u001b[39menviron:\n\u001b[0;32m----> 2\u001b[0m     os\u001b[38;5;241m.\u001b[39menviron[\u001b[38;5;124m\"\u001b[39m\u001b[38;5;124mNVIDIA_API_KEY\u001b[39m\u001b[38;5;124m\"\u001b[39m] \u001b[38;5;241m=\u001b[39m \u001b[43mgetpass\u001b[49m\u001b[38;5;241;43m.\u001b[39;49m\u001b[43mgetpass\u001b[49m\u001b[43m(\u001b[49m\u001b[43m)\u001b[49m\n\u001b[1;32m      4\u001b[0m \u001b[38;5;66;03m# from langchain_nvidia_ai_endpoints import ChatNVIDIA\u001b[39;00m\n\u001b[1;32m      5\u001b[0m \u001b[38;5;66;03m# client = ChatNVIDIA(\u001b[39;00m\n\u001b[1;32m      6\u001b[0m \u001b[38;5;66;03m#   model=\"mistralai/mixtral-8x22b-instruct-v0.1\",\u001b[39;00m\n\u001b[0;32m   (...)\u001b[0m\n\u001b[1;32m     13\u001b[0m \u001b[38;5;66;03m# for chunk in client.stream([{\"role\":\"user\",\"content\":\"Write a limerick about the wonders of GPU computing.\"}]): \u001b[39;00m\n\u001b[1;32m     14\u001b[0m \u001b[38;5;66;03m#   print(chunk.content, end=\"\")\u001b[39;00m\n",
      "File \u001b[0;32m~/.local/lib/python3.10/site-packages/ipykernel/kernelbase.py:1265\u001b[0m, in \u001b[0;36mKernel.getpass\u001b[0;34m(self, prompt, stream)\u001b[0m\n\u001b[1;32m   1258\u001b[0m     \u001b[38;5;28;01mimport\u001b[39;00m\u001b[38;5;250m \u001b[39m\u001b[38;5;21;01mwarnings\u001b[39;00m\n\u001b[1;32m   1260\u001b[0m     warnings\u001b[38;5;241m.\u001b[39mwarn(\n\u001b[1;32m   1261\u001b[0m         \u001b[38;5;124m\"\u001b[39m\u001b[38;5;124mThe `stream` parameter of `getpass.getpass` will have no effect when using ipykernel\u001b[39m\u001b[38;5;124m\"\u001b[39m,\n\u001b[1;32m   1262\u001b[0m         \u001b[38;5;167;01mUserWarning\u001b[39;00m,\n\u001b[1;32m   1263\u001b[0m         stacklevel\u001b[38;5;241m=\u001b[39m\u001b[38;5;241m2\u001b[39m,\n\u001b[1;32m   1264\u001b[0m     )\n\u001b[0;32m-> 1265\u001b[0m \u001b[38;5;28;01mreturn\u001b[39;00m \u001b[38;5;28;43mself\u001b[39;49m\u001b[38;5;241;43m.\u001b[39;49m\u001b[43m_input_request\u001b[49m\u001b[43m(\u001b[49m\n\u001b[1;32m   1266\u001b[0m \u001b[43m    \u001b[49m\u001b[43mprompt\u001b[49m\u001b[43m,\u001b[49m\n\u001b[1;32m   1267\u001b[0m \u001b[43m    \u001b[49m\u001b[38;5;28;43mself\u001b[39;49m\u001b[38;5;241;43m.\u001b[39;49m\u001b[43m_parent_ident\u001b[49m\u001b[43m[\u001b[49m\u001b[38;5;124;43m\"\u001b[39;49m\u001b[38;5;124;43mshell\u001b[39;49m\u001b[38;5;124;43m\"\u001b[39;49m\u001b[43m]\u001b[49m\u001b[43m,\u001b[49m\n\u001b[1;32m   1268\u001b[0m \u001b[43m    \u001b[49m\u001b[38;5;28;43mself\u001b[39;49m\u001b[38;5;241;43m.\u001b[39;49m\u001b[43mget_parent\u001b[49m\u001b[43m(\u001b[49m\u001b[38;5;124;43m\"\u001b[39;49m\u001b[38;5;124;43mshell\u001b[39;49m\u001b[38;5;124;43m\"\u001b[39;49m\u001b[43m)\u001b[49m\u001b[43m,\u001b[49m\n\u001b[1;32m   1269\u001b[0m \u001b[43m    \u001b[49m\u001b[43mpassword\u001b[49m\u001b[38;5;241;43m=\u001b[39;49m\u001b[38;5;28;43;01mTrue\u001b[39;49;00m\u001b[43m,\u001b[49m\n\u001b[1;32m   1270\u001b[0m \u001b[43m\u001b[49m\u001b[43m)\u001b[49m\n",
      "File \u001b[0;32m~/.local/lib/python3.10/site-packages/ipykernel/kernelbase.py:1325\u001b[0m, in \u001b[0;36mKernel._input_request\u001b[0;34m(self, prompt, ident, parent, password)\u001b[0m\n\u001b[1;32m   1322\u001b[0m \u001b[38;5;28;01mexcept\u001b[39;00m \u001b[38;5;167;01mKeyboardInterrupt\u001b[39;00m:\n\u001b[1;32m   1323\u001b[0m     \u001b[38;5;66;03m# re-raise KeyboardInterrupt, to truncate traceback\u001b[39;00m\n\u001b[1;32m   1324\u001b[0m     msg \u001b[38;5;241m=\u001b[39m \u001b[38;5;124m\"\u001b[39m\u001b[38;5;124mInterrupted by user\u001b[39m\u001b[38;5;124m\"\u001b[39m\n\u001b[0;32m-> 1325\u001b[0m     \u001b[38;5;28;01mraise\u001b[39;00m \u001b[38;5;167;01mKeyboardInterrupt\u001b[39;00m(msg) \u001b[38;5;28;01mfrom\u001b[39;00m\u001b[38;5;250m \u001b[39m\u001b[38;5;28;01mNone\u001b[39;00m\n\u001b[1;32m   1326\u001b[0m \u001b[38;5;28;01mexcept\u001b[39;00m \u001b[38;5;167;01mException\u001b[39;00m:\n\u001b[1;32m   1327\u001b[0m     \u001b[38;5;28mself\u001b[39m\u001b[38;5;241m.\u001b[39mlog\u001b[38;5;241m.\u001b[39mwarning(\u001b[38;5;124m\"\u001b[39m\u001b[38;5;124mInvalid Message:\u001b[39m\u001b[38;5;124m\"\u001b[39m, exc_info\u001b[38;5;241m=\u001b[39m\u001b[38;5;28;01mTrue\u001b[39;00m)\n",
      "\u001b[0;31mKeyboardInterrupt\u001b[0m: Interrupted by user"
     ]
    }
   ],
   "source": [
    "if \"NVIDIA_API_KEY\" not in os.environ:\n",
    "    os.environ[\"NVIDIA_API_KEY\"] = getpass.getpass()\n",
    "    \n",
    "# from langchain_nvidia_ai_endpoints import ChatNVIDIA\n",
    "# client = ChatNVIDIA(\n",
    "#   model=\"mistralai/mixtral-8x22b-instruct-v0.1\",\n",
    "#   api_key=os.environ[\"NVIDIA_API_KEY\"], \n",
    "#   temperature=0.5,\n",
    "#   top_p=1,\n",
    "#   max_tokens=1024,\n",
    "# )\n",
    "# #test llm\n",
    "# for chunk in client.stream([{\"role\":\"user\",\"content\":\"Write a limerick about the wonders of GPU computing.\"}]): \n",
    "#   print(chunk.content, end=\"\")"
   ]
  }
 ],
 "metadata": {
  "kernelspec": {
   "display_name": "Python 3",
   "language": "python",
   "name": "python3"
  },
  "language_info": {
   "codemirror_mode": {
    "name": "ipython",
    "version": 3
   },
   "file_extension": ".py",
   "mimetype": "text/x-python",
   "name": "python",
   "nbconvert_exporter": "python",
   "pygments_lexer": "ipython3",
   "version": "3.10.12"
  }
 },
 "nbformat": 4,
 "nbformat_minor": 2
}
