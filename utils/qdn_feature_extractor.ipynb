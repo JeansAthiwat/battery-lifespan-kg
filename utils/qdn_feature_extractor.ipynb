{
 "cells": [
  {
   "cell_type": "code",
   "execution_count": 5,
   "metadata": {},
   "outputs": [],
   "source": [
    "import numpy as np\n",
    "\n",
    "def extract_features_from_sample_battery(file_path):\n",
    "    \"\"\"\n",
    "    Reads a sample battery file where each line is a comma-separated q_d_n value \n",
    "    (e.g., \"0.8855053186416626,\") and extracts features from these values.\n",
    "    \n",
    "    Extracted features include:\n",
    "      - slope_last_k_cycles: Slope over the last k cycles for each k in the list.\n",
    "      - mean_grad_last_k_cycles: Mean gradient (via np.gradient) over the last k cycles.\n",
    "      - trimmed_q_d_n_avg: Average value of the trimmed q_d_n array.\n",
    "      - total_cycles: Total number of cycles, computed from the length of the trimmed q_d_n array.\n",
    "    \n",
    "    Parameters:\n",
    "        file_path (str): Path to the comma-separated text file containing q_d_n values.\n",
    "        \n",
    "    Returns:\n",
    "        dict: A dictionary containing the extracted features.\n",
    "    \"\"\"\n",
    "    # Load the q_d_n values from file, handling comma separation per line.\n",
    "    q_d_n_values = []\n",
    "    with open(file_path, 'r') as f:\n",
    "        for line in f:\n",
    "            # Remove leading/trailing whitespace and trailing commas\n",
    "            value_str = line.strip().rstrip(',')\n",
    "            if value_str:\n",
    "                q_d_n_values.append(float(value_str))\n",
    "    \n",
    "    # Convert the list to a numpy array\n",
    "    q_d_n_array = np.array(q_d_n_values)\n",
    "    \n",
    "    # Trim trailing zeros from the q_d_n array (assumes zeros at the end indicate no data)\n",
    "    trimmed_q_d_n = np.trim_zeros(q_d_n_array, 'b')\n",
    "    \n",
    "    # Compute total cycles as the length of the trimmed array\n",
    "    total_cycles = len(trimmed_q_d_n)\n",
    "    \n",
    "    # Compute the average of the trimmed q_d_n values (if available)\n",
    "    trimmed_q_d_n_avg = float(np.mean(trimmed_q_d_n)) if total_cycles > 0 else np.nan\n",
    "\n",
    "    # Define k values for which features are computed\n",
    "    k_values = [10, 50, 100, 200, 300, 400, 500, 600, 700, 800, 900, 1000]\n",
    "    \n",
    "    # Initialize the dictionary to hold features\n",
    "    features = {}\n",
    "    \n",
    "    # For each k, compute the slope over the last k cycles and the mean gradient\n",
    "    for k in k_values:\n",
    "        if total_cycles > k:\n",
    "            # Slope: difference between the last value and the value k cycles ago divided by k\n",
    "            slope = (trimmed_q_d_n[-1] - trimmed_q_d_n[-k]) / k\n",
    "            \n",
    "            # Mean gradient over the last k cycles using numpy.gradient\n",
    "            grad = np.gradient(trimmed_q_d_n[-k:], 1)\n",
    "            mean_grad = float(np.mean(grad))\n",
    "        else:\n",
    "            slope = np.nan\n",
    "            mean_grad = np.nan\n",
    "        \n",
    "        features[f'slope_last_{k}_cycles'] = slope\n",
    "        features[f'mean_grad_last_{k}_cycles'] = mean_grad\n",
    "\n",
    "    # Add average of trimmed_q_d_n and total cycles to the feature set\n",
    "    features['trimmed_q_d_n_avg'] = trimmed_q_d_n_avg\n",
    "    features['total_cycles'] = total_cycles\n",
    "\n",
    "    return features\n"
   ]
  },
  {
   "cell_type": "code",
   "execution_count": 7,
   "metadata": {},
   "outputs": [
    {
     "name": "stdout",
     "output_type": "stream",
     "text": [
      "{'slope_last_10_cycles': -0.0004921257495880127, 'mean_grad_last_10_cycles': -0.0005299955606460572, 'slope_last_50_cycles': -0.0007295429706573487, 'mean_grad_last_50_cycles': -0.0007365322113037109, 'slope_last_100_cycles': -0.000748140811920166, 'mean_grad_last_100_cycles': -0.0007513692975044251, 'slope_last_200_cycles': -0.0006169137358665466, 'mean_grad_last_200_cycles': -0.0006169727444648742, 'slope_last_300_cycles': -0.00047541677951812745, 'mean_grad_last_300_cycles': -0.0004754801591237386, 'slope_last_400_cycles': -0.0003808070719242096, 'mean_grad_last_400_cycles': -0.0003807681798934936, 'slope_last_500_cycles': -0.00031944239139556886, 'mean_grad_last_500_cycles': -0.000319430947303772, 'slope_last_600_cycles': -0.0002761176228523254, 'mean_grad_last_600_cycles': -0.0002763838569323222, 'slope_last_700_cycles': -0.00024357242243630545, 'mean_grad_last_700_cycles': -0.00024350694247654507, 'slope_last_800_cycles': -0.00021820046007633208, 'mean_grad_last_800_cycles': -0.00021823398768901824, 'slope_last_900_cycles': -0.00019924581050872803, 'mean_grad_last_900_cycles': -0.00019931296507517496, 'slope_last_1000_cycles': -0.00018277829885482788, 'mean_grad_last_1000_cycles': -0.00018278807401657106, 'trimmed_q_d_n_avg': 1.0287392090832461, 'total_cycles': 1116}\n"
     ]
    }
   ],
   "source": [
    "# Example usage:\n",
    "features = extract_features_from_sample_battery(\"/home/jaf/battery-lifespan-kg/b3c3.txt\")\n",
    "print(features)\n"
   ]
  }
 ],
 "metadata": {
  "kernelspec": {
   "display_name": "tserie",
   "language": "python",
   "name": "python3"
  },
  "language_info": {
   "codemirror_mode": {
    "name": "ipython",
    "version": 3
   },
   "file_extension": ".py",
   "mimetype": "text/x-python",
   "name": "python",
   "nbconvert_exporter": "python",
   "pygments_lexer": "ipython3",
   "version": "3.10.13"
  }
 },
 "nbformat": 4,
 "nbformat_minor": 2
}
