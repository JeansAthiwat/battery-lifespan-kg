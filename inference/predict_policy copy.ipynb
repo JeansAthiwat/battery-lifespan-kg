{
 "cells": [
  {
   "cell_type": "code",
   "execution_count": 1,
   "metadata": {},
   "outputs": [
    {
     "name": "stdout",
     "output_type": "stream",
     "text": [
      "Note: you may need to restart the kernel to use updated packages.\n"
     ]
    }
   ],
   "source": [
    "%pip install --upgrade --quiet  langchain langchain-community langchain-openai langchain-experimental neo4j"
   ]
  },
  {
   "cell_type": "code",
   "execution_count": 2,
   "metadata": {},
   "outputs": [],
   "source": [
    "import pickle\n",
    "import os \n",
    "import numpy as np\n",
    "import getpass\n",
    "import os\n",
    "\n",
    "\n",
    "input_test_file = \"/home/jeans/nvaitc/battery_timeseries/resources/raw/test_bat_data.pkl\"\n",
    "\n",
    "with open(input_test_file, \"rb\") as file:\n",
    "    test_dict = pickle.load(file)\n",
    "    \n",
    "for battery_id in test_dict:\n",
    "    trimmed_arr = np.trim_zeros(test_dict[battery_id]['q_d_n'], 'b')\n",
    "    test_dict[battery_id]['trimmed_q_d_n'] = list(trimmed_arr)\n",
    "    \n",
    "last_k_th_cycles_list = [10, 50, 100, 200, 300, 400, 500, 600, 700, 800, 900, 1000]\n",
    "# calculate slope from first cycle to the last cycle\n",
    "for battery_id in test_dict:\n",
    "    q_d_n_values  = test_dict[battery_id]['trimmed_q_d_n']\n",
    "    cycle = test_dict[battery_id]['cycle']\n",
    "    slope = (q_d_n_values[-1] - q_d_n_values[0]) / cycle\n",
    "    test_dict[battery_id]['slope_all_cycles'] = slope\n",
    "    \n",
    "for k in last_k_th_cycles_list:\n",
    "    for battery_id in test_dict:\n",
    "        q_d_n_values  = test_dict[battery_id]['trimmed_q_d_n']\n",
    "        cycle = test_dict[battery_id]['cycle']\n",
    "        if cycle > k:\n",
    "            slope = (q_d_n_values[-1] - q_d_n_values[-k]) / k\n",
    "        else:\n",
    "            slope = np.nan\n",
    "        test_dict[battery_id][f'slope_last_{k}_cycles'] = slope\n",
    "        \n",
    "#calculate a mean gradient of the last k cycles using numpy gradient\n",
    "for k in last_k_th_cycles_list:\n",
    "    for battery_id in test_dict:\n",
    "        q_d_n_values  = test_dict[battery_id]['trimmed_q_d_n']\n",
    "        cycle = test_dict[battery_id]['cycle']\n",
    "        if cycle > k:\n",
    "            slope = np.gradient(q_d_n_values[-k:], 1)\n",
    "            mean_slope = np.mean(slope)\n",
    "        else:\n",
    "            mean_slope = np.nan\n",
    "        test_dict[battery_id][f'mean_grad_last_{k}_cycles'] = mean_slope"
   ]
  },
  {
   "cell_type": "code",
   "execution_count": 3,
   "metadata": {},
   "outputs": [
    {
     "name": "stdout",
     "output_type": "stream",
     "text": [
      "battery_id: dict_keys(['b3c0', 'b3c1', 'b3c3', 'b3c4', 'b3c5', 'b3c6', 'b3c7', 'b3c8', 'b3c9', 'b3c10', 'b3c11', 'b3c12', 'b3c13', 'b3c14', 'b3c15', 'b3c16', 'b3c17', 'b3c18', 'b3c19', 'b3c20', 'b3c21', 'b3c22', 'b3c24', 'b3c25', 'b3c26', 'b3c27', 'b3c28', 'b3c29', 'b3c30', 'b3c31', 'b3c33', 'b3c34', 'b3c35', 'b3c36', 'b3c40', 'b3c41', 'b3c42', 'b3c43', 'b3c44', 'b3c45'])\n",
      "sample_battery_id (b3c45) features:\n",
      "    -q_d_n : (<class 'list'>)\n",
      "    -cycle : (<class 'int'>)\n",
      "    -trimmed_q_d_n : (<class 'list'>)\n",
      "    -slope_all_cycles : (<class 'float'>)\n",
      "    -slope_last_10_cycles : (<class 'float'>)\n",
      "    -slope_last_50_cycles : (<class 'float'>)\n",
      "    -slope_last_100_cycles : (<class 'float'>)\n",
      "    -slope_last_200_cycles : (<class 'float'>)\n",
      "    -slope_last_300_cycles : (<class 'float'>)\n",
      "    -slope_last_400_cycles : (<class 'float'>)\n",
      "    -slope_last_500_cycles : (<class 'float'>)\n",
      "    -slope_last_600_cycles : (<class 'float'>)\n",
      "    -slope_last_700_cycles : (<class 'float'>)\n",
      "    -slope_last_800_cycles : (<class 'float'>)\n",
      "    -slope_last_900_cycles : (<class 'float'>)\n",
      "    -slope_last_1000_cycles : (<class 'float'>)\n",
      "    -mean_grad_last_10_cycles : (<class 'numpy.float64'>)\n",
      "    -mean_grad_last_50_cycles : (<class 'numpy.float64'>)\n",
      "    -mean_grad_last_100_cycles : (<class 'numpy.float64'>)\n",
      "    -mean_grad_last_200_cycles : (<class 'numpy.float64'>)\n",
      "    -mean_grad_last_300_cycles : (<class 'numpy.float64'>)\n",
      "    -mean_grad_last_400_cycles : (<class 'numpy.float64'>)\n",
      "    -mean_grad_last_500_cycles : (<class 'numpy.float64'>)\n",
      "    -mean_grad_last_600_cycles : (<class 'numpy.float64'>)\n",
      "    -mean_grad_last_700_cycles : (<class 'numpy.float64'>)\n",
      "    -mean_grad_last_800_cycles : (<class 'numpy.float64'>)\n",
      "    -mean_grad_last_900_cycles : (<class 'numpy.float64'>)\n",
      "    -mean_grad_last_1000_cycles : (<class 'numpy.float64'>)\n"
     ]
    }
   ],
   "source": [
    "sample_battery_id = 'b3c45'\n",
    "print(\"battery_id:\", test_dict.keys())\n",
    "features = test_dict[sample_battery_id].keys()\n",
    "print(f\"sample_battery_id ({sample_battery_id}) features:\")\n",
    "for feature in features:\n",
    "    print(f'    -{feature} : ({type(test_dict[sample_battery_id][feature])})')"
   ]
  },
  {
   "cell_type": "code",
   "execution_count": 4,
   "metadata": {},
   "outputs": [
    {
     "name": "stderr",
     "output_type": "stream",
     "text": [
      "/tmp/ipykernel_101141/636819369.py:6: LangChainDeprecationWarning: The class `Neo4jGraph` was deprecated in LangChain 0.3.8 and will be removed in 1.0. An updated version of the class exists in the :class:`~langchain-neo4j package and should be used instead. To use it run `pip install -U :class:`~langchain-neo4j` and import as `from :class:`~langchain_neo4j import Neo4jGraph``.\n",
      "  graph = Neo4jGraph(refresh_schema=False)\n"
     ]
    },
    {
     "name": "stdout",
     "output_type": "stream",
     "text": [
      "Node properties:\n",
      "ChargingPolicy {charging_policy: STRING}\n",
      "Battery {battery_id: STRING, total_cycles: INTEGER, slope_all_cycles: FLOAT, trimmed_q_d_n_avg: FLOAT, name: STRING, slope_last_10_cycles: FLOAT, slope_last_50_cycles: FLOAT, slope_last_100_cycles: FLOAT, slope_last_200_cycles: FLOAT, slope_last_300_cycles: FLOAT, slope_last_400_cycles: FLOAT, slope_last_500_cycles: FLOAT, slope_last_600_cycles: FLOAT, slope_last_700_cycles: FLOAT, slope_last_800_cycles: FLOAT, slope_last_900_cycles: FLOAT, slope_last_1000_cycles: FLOAT, mean_grad_last_10_cycles: FLOAT, mean_grad_last_50_cycles: FLOAT, mean_grad_last_100_cycles: FLOAT, mean_grad_last_200_cycles: FLOAT, mean_grad_last_300_cycles: FLOAT, mean_grad_last_400_cycles: FLOAT, mean_grad_last_500_cycles: FLOAT, mean_grad_last_600_cycles: FLOAT, mean_grad_last_700_cycles: FLOAT, mean_grad_last_800_cycles: FLOAT, mean_grad_last_900_cycles: FLOAT, mean_grad_last_1000_cycles: FLOAT}\n",
      "Relationship properties:\n",
      "\n",
      "The relationships:\n",
      "(:ChargingPolicy)-[:USED_BY]->(:Battery)\n"
     ]
    }
   ],
   "source": [
    "os.environ[\"NEO4J_URI\"] = \"neo4j+s://3b31837b.databases.neo4j.io\"\n",
    "os.environ[\"NEO4J_USERNAME\"] = \"neo4j\"\n",
    "os.environ[\"NEO4J_PASSWORD\"] = \"D4W3Zfi44nAJfStBuxSE2DpKhlk_nMP6ybEjvOX5qxw\"\n",
    "\n",
    "from langchain_community.graphs import Neo4jGraph\n",
    "graph = Neo4jGraph(refresh_schema=False)\n",
    "\n",
    "graph.refresh_schema()\n",
    "print(graph.schema)"
   ]
  },
  {
   "cell_type": "markdown",
   "metadata": {},
   "source": [
    "## Example Query"
   ]
  },
  {
   "cell_type": "code",
   "execution_count": 8,
   "metadata": {},
   "outputs": [
    {
     "name": "stdout",
     "output_type": "stream",
     "text": [
      "[{'battery_id': 'b1c11', 'slope_last_500_cycles': -0.00034225058555603026, 'similarity': 2.099394798278794e-06}, {'battery_id': 'b1c18', 'slope_last_500_cycles': -0.00034250414371490476, 'similarity': 2.3529529571533e-06}, {'battery_id': 'b1c5', 'slope_last_500_cycles': -0.0003480168581008911, 'similarity': 7.865667343139645e-06}]\n",
      "Test Battery: b3c0 (slope_last_500_cycles = -0.00034015119075775146)\n",
      "Closest 3 Matches in Neo4j (within threshold 10):\n",
      "1. Battery: b1c11 - Slope: -0.00034225058555603026 (Diff: 2.099394798278794e-06)\n"
     ]
    },
    {
     "ename": "KeyError",
     "evalue": "'charging_policy'",
     "output_type": "error",
     "traceback": [
      "\u001b[0;31m---------------------------------------------------------------------------\u001b[0m",
      "\u001b[0;31mKeyError\u001b[0m                                  Traceback (most recent call last)",
      "Cell \u001b[0;32mIn[8], line 31\u001b[0m\n\u001b[1;32m     29\u001b[0m \u001b[38;5;28;01mfor\u001b[39;00m idx, battery \u001b[38;5;129;01min\u001b[39;00m \u001b[38;5;28menumerate\u001b[39m(neo4j_results):\n\u001b[1;32m     30\u001b[0m     \u001b[38;5;28mprint\u001b[39m(\u001b[38;5;124mf\u001b[39m\u001b[38;5;124m\"\u001b[39m\u001b[38;5;132;01m{\u001b[39;00midx\u001b[38;5;241m+\u001b[39m\u001b[38;5;241m1\u001b[39m\u001b[38;5;132;01m}\u001b[39;00m\u001b[38;5;124m. Battery: \u001b[39m\u001b[38;5;132;01m{\u001b[39;00mbattery[\u001b[38;5;124m'\u001b[39m\u001b[38;5;124mbattery_id\u001b[39m\u001b[38;5;124m'\u001b[39m]\u001b[38;5;132;01m}\u001b[39;00m\u001b[38;5;124m - Slope: \u001b[39m\u001b[38;5;132;01m{\u001b[39;00mbattery[\u001b[38;5;124mf\u001b[39m\u001b[38;5;124m'\u001b[39m\u001b[38;5;132;01m{\u001b[39;00mfeature\u001b[38;5;132;01m}\u001b[39;00m\u001b[38;5;124m'\u001b[39m]\u001b[38;5;132;01m}\u001b[39;00m\u001b[38;5;124m (Diff: \u001b[39m\u001b[38;5;132;01m{\u001b[39;00mbattery[\u001b[38;5;124m'\u001b[39m\u001b[38;5;124msimilarity\u001b[39m\u001b[38;5;124m'\u001b[39m]\u001b[38;5;132;01m}\u001b[39;00m\u001b[38;5;124m)\u001b[39m\u001b[38;5;124m\"\u001b[39m)\n\u001b[0;32m---> 31\u001b[0m     \u001b[38;5;28mprint\u001b[39m(\u001b[38;5;124mf\u001b[39m\u001b[38;5;124m\"\u001b[39m\u001b[38;5;124m   Charging Policy: \u001b[39m\u001b[38;5;132;01m{\u001b[39;00m\u001b[43mbattery\u001b[49m\u001b[43m[\u001b[49m\u001b[38;5;124;43m'\u001b[39;49m\u001b[38;5;124;43mcharging_policy\u001b[39;49m\u001b[38;5;124;43m'\u001b[39;49m\u001b[43m]\u001b[49m\u001b[38;5;132;01m}\u001b[39;00m\u001b[38;5;130;01m\\n\u001b[39;00m\u001b[38;5;124m\"\u001b[39m)\n",
      "\u001b[0;31mKeyError\u001b[0m: 'charging_policy'"
     ]
    }
   ],
   "source": [
    "test_key = 'b3c0'\n",
    "test_battery = test_dict[test_key]\n",
    "test_battery.keys()\n",
    "\n",
    "feature = \"slope_last_500_cycles\"\n",
    "test_slope = test_battery[f\"{feature}\"]  # Change this to compare different features\n",
    "\n",
    "# Define similarity threshold and number of results\n",
    "THRESHOLD = 10  # Adjust based on desired similarity\n",
    "TOP_K = 3  # Number of closest matches to return\n",
    "\n",
    "# Query Neo4j for batteries within the similarity threshold & fetch charging policy\n",
    "query = f\"\"\"\n",
    "MATCH (b:Battery)\n",
    "WHERE abs(b.{feature} - {test_slope}) < {THRESHOLD}\n",
    "RETURN b.battery_id AS battery_id, \n",
    "       b.{feature} AS {feature}, \n",
    "       abs(b.{feature} - {test_slope}) AS similarity\n",
    "ORDER BY similarity ASC\n",
    "LIMIT {TOP_K}\n",
    "\"\"\"\n",
    "\n",
    "# Execute query\n",
    "neo4j_results = graph.query(query)\n",
    "print(neo4j_results)\n",
    "# Print results\n",
    "print(f\"Test Battery: {test_key} ({feature} = {test_slope})\")\n",
    "print(f\"Closest {TOP_K} Matches in Neo4j (within threshold {THRESHOLD}):\")\n",
    "for idx, battery in enumerate(neo4j_results):\n",
    "    print(f\"{idx+1}. Battery: {battery['battery_id']} - Slope: {battery[f'{feature}']} (Diff: {battery['similarity']})\")\n",
    "    print(f\"   Charging Policy: {battery['charging_policy']}\\n\")"
   ]
  },
  {
   "cell_type": "code",
   "execution_count": null,
   "metadata": {},
   "outputs": [
    {
     "name": "stderr",
     "output_type": "stream",
     "text": [
      "/home/jeans/miniconda3/envs/tserie/lib/python3.10/site-packages/langchain_nvidia_ai_endpoints/_common.py:176: UserWarning: An API key is required for the hosted NIM. This will become an error in the future.\n",
      "  warnings.warn(\n"
     ]
    },
    {
     "ename": "NameError",
     "evalue": "name 'result' is not defined",
     "output_type": "error",
     "traceback": [
      "\u001b[0;31m---------------------------------------------------------------------------\u001b[0m",
      "\u001b[0;31mNameError\u001b[0m                                 Traceback (most recent call last)",
      "Cell \u001b[0;32mIn[6], line 23\u001b[0m\n\u001b[1;32m     15\u001b[0m query \u001b[38;5;241m=\u001b[39m \u001b[38;5;124m\"\"\"\u001b[39m\n\u001b[1;32m     16\u001b[0m \u001b[38;5;124mMATCH (b:Battery)-[:HAS_CYCLE]->(c:Cycle)\u001b[39m\n\u001b[1;32m     17\u001b[0m \u001b[38;5;124mRETURN b.batteryID AS batteryID, c.cycle_number AS cycle, c.discharge_capacity AS capacity\u001b[39m\n\u001b[1;32m     18\u001b[0m \u001b[38;5;124mLIMIT 10\u001b[39m\n\u001b[1;32m     19\u001b[0m \u001b[38;5;124m\"\"\"\u001b[39m\n\u001b[1;32m     20\u001b[0m \u001b[38;5;66;03m# result = graph.query(query)\u001b[39;00m\n\u001b[1;32m     21\u001b[0m \n\u001b[1;32m     22\u001b[0m \u001b[38;5;66;03m# Format results for the LLM\u001b[39;00m\n\u001b[0;32m---> 23\u001b[0m data \u001b[38;5;241m=\u001b[39m [{\u001b[38;5;124m\"\u001b[39m\u001b[38;5;124mbatteryID\u001b[39m\u001b[38;5;124m\"\u001b[39m: record[\u001b[38;5;124m\"\u001b[39m\u001b[38;5;124mbatteryID\u001b[39m\u001b[38;5;124m\"\u001b[39m], \u001b[38;5;124m\"\u001b[39m\u001b[38;5;124mcycle\u001b[39m\u001b[38;5;124m\"\u001b[39m: record[\u001b[38;5;124m\"\u001b[39m\u001b[38;5;124mcycle\u001b[39m\u001b[38;5;124m\"\u001b[39m], \u001b[38;5;124m\"\u001b[39m\u001b[38;5;124mcapacity\u001b[39m\u001b[38;5;124m\"\u001b[39m: record[\u001b[38;5;124m\"\u001b[39m\u001b[38;5;124mcapacity\u001b[39m\u001b[38;5;124m\"\u001b[39m]} \u001b[38;5;28;01mfor\u001b[39;00m record \u001b[38;5;129;01min\u001b[39;00m \u001b[43mresult\u001b[49m]\n\u001b[1;32m     25\u001b[0m \u001b[38;5;66;03m# Pass to LLM for further analysis\u001b[39;00m\n\u001b[1;32m     26\u001b[0m prompt \u001b[38;5;241m=\u001b[39m \u001b[38;5;124mf\u001b[39m\u001b[38;5;124m'''\u001b[39m\u001b[38;5;124mFormat this text for presentation slide and correct my grammar:\u001b[39m\u001b[38;5;130;01m\\n\u001b[39;00m\u001b[38;5;130;01m\\n\u001b[39;00m\u001b[38;5;124mbattery_dataset : dict() with batteryID as key\u001b[39m\n\u001b[1;32m     27\u001b[0m \u001b[38;5;124mExample \u001b[39m\n\u001b[1;32m     28\u001b[0m \u001b[38;5;124m->battery_dataset[\u001b[39m\u001b[38;5;124m'\u001b[39m\u001b[38;5;124mb1c1\u001b[39m\u001b[38;5;124m'\u001b[39m\u001b[38;5;124m] : dict with 6 keys [\u001b[39m\u001b[38;5;124m'\u001b[39m\u001b[38;5;124mq_d_n\u001b[39m\u001b[38;5;124m'\u001b[39m\u001b[38;5;124m, \u001b[39m\u001b[38;5;124m'\u001b[39m\u001b[38;5;124mtrimmed_q_d_n\u001b[39m\u001b[38;5;124m'\u001b[39m\u001b[38;5;124m, \u001b[39m\u001b[38;5;124m'\u001b[39m\u001b[38;5;124mcycle\u001b[39m\u001b[38;5;124m'\u001b[39m\u001b[38;5;124m, \u001b[39m\u001b[38;5;124m'\u001b[39m\u001b[38;5;124mmean_backhalf_grad\u001b[39m\u001b[38;5;124m'\u001b[39m\u001b[38;5;124m, \u001b[39m\u001b[38;5;124m'\u001b[39m\u001b[38;5;124mgradient_q_d_n\u001b[39m\u001b[38;5;124m'\u001b[39m\u001b[38;5;124m]\u001b[39m\n\u001b[0;32m   (...)\u001b[0m\n\u001b[1;32m     35\u001b[0m \u001b[38;5;124m- mean_backhalf_grad : floating point number representing the mean of gradient from all of the backhalf element of the array in q_d_n`\u001b[39m\n\u001b[1;32m     36\u001b[0m \u001b[38;5;124m-charging_policy : str\u001b[39m\u001b[38;5;124m'''\u001b[39m\n",
      "\u001b[0;31mNameError\u001b[0m: name 'result' is not defined"
     ]
    }
   ],
   "source": [
    "from langchain_nvidia_ai_endpoints import ChatNVIDIA\n",
    "if os.environ.get(\"NVIDIA_API_KEY\") is None:\n",
    "    os.environ[\"NVIDIA_API_KEY\"] = input()\n",
    "\n",
    "# Set up NVIDIA ChatNVIDIA LLM\n",
    "llm = ChatNVIDIA(\n",
    "    model=\"mistralai/mixtral-8x22b-instruct-v0.1\",\n",
    "    api_key=os.environ[\"NVIDIA_API_KEY\"],\n",
    "    temperature=0.5,\n",
    "    top_p=1,\n",
    "    max_tokens=1024,\n",
    ")\n",
    "\n",
    "# Query the graph database\n",
    "query = \"\"\"\n",
    "MATCH (b:Battery)-[:HAS_CYCLE]->(c:Cycle)\n",
    "RETURN b.batteryID AS batteryID, c.cycle_number AS cycle, c.discharge_capacity AS capacity\n",
    "LIMIT 10\n",
    "\"\"\"\n",
    "# result = graph.query(query)\n",
    "\n",
    "# Format results for the LLM\n",
    "data = [{\"batteryID\": record[\"batteryID\"], \"cycle\": record[\"cycle\"], \"capacity\": record[\"capacity\"]} for record in result]\n",
    "\n",
    "# Pass to LLM for further analysis\n",
    "prompt = f'''Format this text for presentation slide and correct my grammar:\\n\\nbattery_dataset : dict() with batteryID as key\n",
    "Example \n",
    "->battery_dataset['b1c1'] : dict with 6 keys ['q_d_n', 'trimmed_q_d_n', 'cycle', 'mean_backhalf_grad', 'gradient_q_d_n']\n",
    "\n",
    "Attributes\n",
    "- cycle : int \n",
    "- q_d_n : array of float showing the discharge capacity left? of each cycle. (unused)\n",
    "- trimmed_q_d_n : q_d_n but trimmed 0s off.\n",
    "- gradient_q_d_n : array of float showing the grad between discharge capacity left (length == cycle).\n",
    "- mean_backhalf_grad : floating point number representing the mean of gradient from all of the backhalf element of the array in q_d_n`\n",
    "-charging_policy : str'''\n",
    "print(prompt)\n",
    "for chunk in llm.stream([{\"role\": \"user\", \"content\": prompt}]):\n",
    "    print(chunk.content, end=\"\")"
   ]
  }
 ],
 "metadata": {
  "kernelspec": {
   "display_name": "tserie",
   "language": "python",
   "name": "python3"
  },
  "language_info": {
   "codemirror_mode": {
    "name": "ipython",
    "version": 3
   },
   "file_extension": ".py",
   "mimetype": "text/x-python",
   "name": "python",
   "nbconvert_exporter": "python",
   "pygments_lexer": "ipython3",
   "version": "3.10.13"
  }
 },
 "nbformat": 4,
 "nbformat_minor": 2
}
